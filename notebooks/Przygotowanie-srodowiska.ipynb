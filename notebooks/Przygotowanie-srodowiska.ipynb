{
 "cells": [
  {
   "cell_type": "markdown",
   "metadata": {},
   "source": [
    "# Przygotowanie środowiska pracy"
   ]
  },
  {
   "cell_type": "markdown",
   "metadata": {},
   "source": [
    "## Doinstalowanie brakujących bibliotek"
   ]
  },
  {
   "cell_type": "code",
   "execution_count": 1,
   "metadata": {},
   "outputs": [
    {
     "name": "stdout",
     "output_type": "stream",
     "text": [
      "Requirement already satisfied: jupyter in c:\\users\\szymk\\miniconda3\\envs\\aipolsl_gpu\\lib\\site-packages (from -r ../requirements.txt (line 1))\n",
      "Requirement already satisfied: keras in c:\\users\\szymk\\miniconda3\\envs\\aipolsl_gpu\\lib\\site-packages (from -r ../requirements.txt (line 2))\n",
      "Requirement already satisfied: tensorflow in c:\\users\\szymk\\miniconda3\\envs\\aipolsl_gpu\\lib\\site-packages (from -r ../requirements.txt (line 3))\n",
      "Requirement already satisfied: pillow in c:\\users\\szymk\\miniconda3\\envs\\aipolsl_gpu\\lib\\site-packages (from -r ../requirements.txt (line 4))\n",
      "Requirement already satisfied: tqdm in c:\\users\\szymk\\miniconda3\\envs\\aipolsl_gpu\\lib\\site-packages (from -r ../requirements.txt (line 5))\n",
      "Requirement already satisfied: matplotlib in c:\\users\\szymk\\miniconda3\\envs\\aipolsl_gpu\\lib\\site-packages (from -r ../requirements.txt (line 6))\n",
      "Requirement already satisfied: pydot in c:\\users\\szymk\\miniconda3\\envs\\aipolsl_gpu\\lib\\site-packages (from -r ../requirements.txt (line 7))\n",
      "Requirement already satisfied: graphviz in c:\\users\\szymk\\miniconda3\\envs\\aipolsl_gpu\\lib\\site-packages (from -r ../requirements.txt (line 8))\n",
      "Requirement already satisfied: scikit-learn in c:\\users\\szymk\\miniconda3\\envs\\aipolsl_gpu\\lib\\site-packages (from -r ../requirements.txt (line 9))\n",
      "Requirement already satisfied: seaborn in c:\\users\\szymk\\miniconda3\\envs\\aipolsl_gpu\\lib\\site-packages (from -r ../requirements.txt (line 10))\n",
      "Requirement already satisfied: numpy>=1.9.1 in c:\\users\\szymk\\miniconda3\\envs\\aipolsl_gpu\\lib\\site-packages (from keras->-r ../requirements.txt (line 2))\n",
      "Requirement already satisfied: scipy>=0.14 in c:\\users\\szymk\\miniconda3\\envs\\aipolsl_gpu\\lib\\site-packages (from keras->-r ../requirements.txt (line 2))\n",
      "Requirement already satisfied: six>=1.9.0 in c:\\users\\szymk\\miniconda3\\envs\\aipolsl_gpu\\lib\\site-packages (from keras->-r ../requirements.txt (line 2))\n",
      "Requirement already satisfied: pyyaml in c:\\users\\szymk\\miniconda3\\envs\\aipolsl_gpu\\lib\\site-packages (from keras->-r ../requirements.txt (line 2))\n",
      "Requirement already satisfied: h5py in c:\\users\\szymk\\miniconda3\\envs\\aipolsl_gpu\\lib\\site-packages (from keras->-r ../requirements.txt (line 2))\n",
      "Requirement already satisfied: keras_applications>=1.0.6 in c:\\users\\szymk\\miniconda3\\envs\\aipolsl_gpu\\lib\\site-packages (from keras->-r ../requirements.txt (line 2))\n",
      "Requirement already satisfied: keras_preprocessing>=1.0.5 in c:\\users\\szymk\\miniconda3\\envs\\aipolsl_gpu\\lib\\site-packages (from keras->-r ../requirements.txt (line 2))\n",
      "Requirement already satisfied: absl-py>=0.1.6 in c:\\users\\szymk\\miniconda3\\envs\\aipolsl_gpu\\lib\\site-packages (from tensorflow->-r ../requirements.txt (line 3))\n",
      "Requirement already satisfied: astor>=0.6.0 in c:\\users\\szymk\\miniconda3\\envs\\aipolsl_gpu\\lib\\site-packages (from tensorflow->-r ../requirements.txt (line 3))\n",
      "Requirement already satisfied: tensorboard<1.12.0,>=1.11.0 in c:\\users\\szymk\\miniconda3\\envs\\aipolsl_gpu\\lib\\site-packages (from tensorflow->-r ../requirements.txt (line 3))\n",
      "Requirement already satisfied: grpcio>=1.8.6 in c:\\users\\szymk\\miniconda3\\envs\\aipolsl_gpu\\lib\\site-packages (from tensorflow->-r ../requirements.txt (line 3))\n",
      "Requirement already satisfied: gast>=0.2.0 in c:\\users\\szymk\\miniconda3\\envs\\aipolsl_gpu\\lib\\site-packages (from tensorflow->-r ../requirements.txt (line 3))\n",
      "Requirement already satisfied: termcolor>=1.1.0 in c:\\users\\szymk\\miniconda3\\envs\\aipolsl_gpu\\lib\\site-packages (from tensorflow->-r ../requirements.txt (line 3))\n",
      "Requirement already satisfied: setuptools<=39.1.0 in c:\\users\\szymk\\miniconda3\\envs\\aipolsl_gpu\\lib\\site-packages (from tensorflow->-r ../requirements.txt (line 3))\n",
      "Requirement already satisfied: protobuf>=3.6.0 in c:\\users\\szymk\\miniconda3\\envs\\aipolsl_gpu\\lib\\site-packages (from tensorflow->-r ../requirements.txt (line 3))\n",
      "Requirement already satisfied: wheel>=0.26 in c:\\users\\szymk\\miniconda3\\envs\\aipolsl_gpu\\lib\\site-packages (from tensorflow->-r ../requirements.txt (line 3))\n",
      "Requirement already satisfied: olefile in c:\\users\\szymk\\miniconda3\\envs\\aipolsl_gpu\\lib\\site-packages (from pillow->-r ../requirements.txt (line 4))\n",
      "Requirement already satisfied: cycler>=0.10 in c:\\users\\szymk\\miniconda3\\envs\\aipolsl_gpu\\lib\\site-packages (from matplotlib->-r ../requirements.txt (line 6))\n",
      "Requirement already satisfied: pyparsing!=2.0.4,!=2.1.2,!=2.1.6,>=2.0.1 in c:\\users\\szymk\\miniconda3\\envs\\aipolsl_gpu\\lib\\site-packages (from matplotlib->-r ../requirements.txt (line 6))\n",
      "Requirement already satisfied: python-dateutil>=2.1 in c:\\users\\szymk\\miniconda3\\envs\\aipolsl_gpu\\lib\\site-packages (from matplotlib->-r ../requirements.txt (line 6))\n",
      "Requirement already satisfied: pytz in c:\\users\\szymk\\miniconda3\\envs\\aipolsl_gpu\\lib\\site-packages (from matplotlib->-r ../requirements.txt (line 6))\n",
      "Requirement already satisfied: kiwisolver>=1.0.1 in c:\\users\\szymk\\miniconda3\\envs\\aipolsl_gpu\\lib\\site-packages (from matplotlib->-r ../requirements.txt (line 6))\n",
      "Requirement already satisfied: pandas>=0.15.2 in c:\\users\\szymk\\miniconda3\\envs\\aipolsl_gpu\\lib\\site-packages (from seaborn->-r ../requirements.txt (line 10))\n",
      "Requirement already satisfied: markdown>=2.6.8 in c:\\users\\szymk\\miniconda3\\envs\\aipolsl_gpu\\lib\\site-packages (from tensorboard<1.12.0,>=1.11.0->tensorflow->-r ../requirements.txt (line 3))\n",
      "Requirement already satisfied: werkzeug>=0.11.10 in c:\\users\\szymk\\miniconda3\\envs\\aipolsl_gpu\\lib\\site-packages (from tensorboard<1.12.0,>=1.11.0->tensorflow->-r ../requirements.txt (line 3))\n"
     ]
    },
    {
     "name": "stderr",
     "output_type": "stream",
     "text": [
      "You are using pip version 9.0.3, however version 18.1 is available.\n",
      "You should consider upgrading via the 'python -m pip install --upgrade pip' command.\n"
     ]
    }
   ],
   "source": [
    "!pip install --user -r ../requirements.txt"
   ]
  },
  {
   "cell_type": "markdown",
   "metadata": {},
   "source": [
    "## Pobranie i rozpakowanie danych"
   ]
  },
  {
   "cell_type": "markdown",
   "metadata": {},
   "source": [
    "* Linux (lub inny system unixowy, działa też na WSL)"
   ]
  },
  {
   "cell_type": "code",
   "execution_count": null,
   "metadata": {},
   "outputs": [],
   "source": [
    "!wget https://www.dropbox.com/s/lpmjzzk26nae9bh/img_align_celeba.zip -P ./..\n",
    "!unzip -q -d ../img_align_celeba ../img_align_celeba.zip\n",
    "!wget https://www.dropbox.com/s/qpjuy9isvm19xsv/list_attr_celeba.txt -P ./.."
   ]
  },
  {
   "cell_type": "markdown",
   "metadata": {},
   "source": [
    "* Windows"
   ]
  },
  {
   "cell_type": "markdown",
   "metadata": {},
   "source": [
    "Pobierz pliki ze strony dropbox i wypakuj plik zip wybranym programem do obsługi archiwów.\n",
    "https://www.dropbox.com/s/lpmjzzk26nae9bh/img_align_celeba.zip  \n",
    "https://www.dropbox.com/s/qpjuy9isvm19xsv/list_attr_celeba.txt  \n",
    "https://www.dropbox.com/s/lmc2ywmuk6c29tt/list_landmarks_align_celeba.txt  "
   ]
  },
  {
   "cell_type": "markdown",
   "metadata": {},
   "source": [
    "## Przetestuj środowisko poprzez dokonanie importów głównych bibliotek"
   ]
  },
  {
   "cell_type": "code",
   "execution_count": 4,
   "metadata": {},
   "outputs": [
    {
     "name": "stderr",
     "output_type": "stream",
     "text": [
      "Using TensorFlow backend.\n"
     ]
    }
   ],
   "source": [
    "import numpy as np\n",
    "import pandas as pd\n",
    "from PIL import Image\n",
    "from tqdm import tqdm\n",
    "import matplotlib.pyplot as plt\n",
    "import seaborn as sns\n",
    "from sklearn.model_selection import train_test_split\n",
    "import keras\n",
    "import tensorflow as tf"
   ]
  },
  {
   "cell_type": "code",
   "execution_count": null,
   "metadata": {},
   "outputs": [],
   "source": []
  }
 ],
 "metadata": {
  "kernelspec": {
   "display_name": "Python 3",
   "language": "python",
   "name": "python3"
  },
  "language_info": {
   "codemirror_mode": {
    "name": "ipython",
    "version": 3
   },
   "file_extension": ".py",
   "mimetype": "text/x-python",
   "name": "python",
   "nbconvert_exporter": "python",
   "pygments_lexer": "ipython3",
   "version": "3.6.6"
  }
 },
 "nbformat": 4,
 "nbformat_minor": 2
}
